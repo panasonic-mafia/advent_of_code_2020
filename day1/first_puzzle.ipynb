{
 "metadata": {
  "language_info": {
   "codemirror_mode": {
    "name": "ipython",
    "version": 3
   },
   "file_extension": ".py",
   "mimetype": "text/x-python",
   "name": "python",
   "nbconvert_exporter": "python",
   "pygments_lexer": "ipython3",
   "version": "3.7.4-final"
  },
  "orig_nbformat": 2,
  "kernelspec": {
   "name": "python3",
   "display_name": "Python 3"
  }
 },
 "nbformat": 4,
 "nbformat_minor": 2,
 "cells": [
  {
   "cell_type": "code",
   "execution_count": 25,
   "metadata": {
    "tags": []
   },
   "outputs": [
    {
     "output_type": "stream",
     "name": "stdout",
     "text": "first number: 1106\nsecond number: 914\nthis is answer:\n1010884\n"
    }
   ],
   "source": [
    "\"\"\" first puzzle: find two numbers which sum is 2020 then multipy them \"\"\"\n",
    "\n",
    "\n",
    "def find_2020(inputList):\n",
    "    i = 0\n",
    "    j = 0\n",
    "    answerflag = 0\n",
    "    \n",
    "    for i in range(0,len(inputList)):\n",
    "        for j in range(0,len(inputList)):\n",
    "            if not inputList[i] == inputList[j]:\n",
    "                answer = inputList[i]+inputList[j]\n",
    "                if answer == 2020:\n",
    "                    print('first number: %s' % inputList[i])\n",
    "                    print('second number: %s' % inputList[j])\n",
    "                    print('this is answer:')\n",
    "                    print(int(inputList[i]*inputList[j]))\n",
    "                    answerflag = 1\n",
    "                    break\n",
    "        if answerflag == 1:\n",
    "            break\n",
    "\n",
    "\n",
    "    \n",
    "    \n",
    "\n",
    "\n",
    "def readCsv(path):\n",
    "    with open(path) as file:\n",
    "        content = file.readlines()\n",
    "        inputList = [x.strip() for x in content]\n",
    "        inputList = [int(x) for x in inputList]\n",
    "        return inputList\n",
    "\n",
    "\n",
    "def main():\n",
    "    inputPath = '/Users/yuriykolosov/OneDrive/advent_of_code_2020/first_puzzle/input.txt'\n",
    "    find_2020(readCsv(inputPath))\n",
    "\n",
    "if __name__ == '__main__':\n",
    "    main()"
   ]
  },
  {
   "cell_type": "code",
   "execution_count": 27,
   "metadata": {
    "tags": []
   },
   "outputs": [
    {
     "output_type": "stream",
     "name": "stdout",
     "text": "first number: 401\nsecond number: 958\nthird number: 661\nthis is answer:\n253928438\n"
    }
   ],
   "source": [
    "\"\"\" second puzzle: find three numbers which sum is 2020 then multipy them \"\"\"\n",
    "\n",
    "\n",
    "def find_2020(inputList):\n",
    "    i = 0\n",
    "    j = 0\n",
    "    k = 0\n",
    "    answerflag = 0\n",
    "    \n",
    "    for i in range(0,len(inputList)):\n",
    "        for j in range(0,len(inputList)):\n",
    "            for k in range(0,len(inputList)):\n",
    "                if not ((inputList[i] == inputList[j]) and (inputList[i] == inputList[k]) and (inputList[j] == inputList[k])):\n",
    "                    answer = inputList[i]+inputList[j]+inputList[k]\n",
    "                    if answer == 2020:\n",
    "                        print('first number: %s' % inputList[i])\n",
    "                        print('second number: %s' % inputList[j])\n",
    "                        print('third number: %s' % inputList[k])\n",
    "                        print('this is answer:')\n",
    "                        print(int(inputList[i]*inputList[j]*inputList[k]))\n",
    "                        answerflag = 1\n",
    "                        break\n",
    "            if answerflag == 1:\n",
    "                break\n",
    "        if answerflag == 1:\n",
    "            break\n",
    "\n",
    "    \n",
    "    \n",
    "\n",
    "\n",
    "def readCsv(path):\n",
    "    with open(path) as file:\n",
    "        content = file.readlines()\n",
    "        inputList = [x.strip() for x in content]\n",
    "        inputList = [int(x) for x in inputList]\n",
    "        return inputList\n",
    "\n",
    "\n",
    "def main():\n",
    "    inputPath = '/Users/yuriykolosov/OneDrive/advent_of_code_2020/first_puzzle/input.txt'\n",
    "    find_2020(readCsv(inputPath))\n",
    "\n",
    "if __name__ == '__main__':\n",
    "    main()"
   ]
  }
 ]
}